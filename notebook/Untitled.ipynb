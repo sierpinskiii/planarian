{
 "cells": [
  {
   "cell_type": "code",
   "execution_count": 1,
   "id": "0843b998",
   "metadata": {},
   "outputs": [
    {
     "data": {
      "text/plain": [
       "Hello world"
      ]
     },
     "metadata": {},
     "output_type": "display_data"
    }
   ],
   "source": [
    "putStrLn \"Hello world\""
   ]
  },
  {
   "cell_type": "code",
   "execution_count": 2,
   "id": "b9921107",
   "metadata": {},
   "outputs": [],
   "source": [
    "cls :: IO ()\n",
    "cls = putStr \"\\ESC[2J\""
   ]
  },
  {
   "cell_type": "code",
   "execution_count": 3,
   "id": "a6cc2d58",
   "metadata": {},
   "outputs": [],
   "source": [
    "type Pos = (Int, Int)"
   ]
  },
  {
   "cell_type": "code",
   "execution_count": 4,
   "id": "3161fffc",
   "metadata": {},
   "outputs": [
    {
     "ename": "",
     "evalue": "",
     "output_type": "error",
     "traceback": [
      "<interactive>:2:19: error: Variable not in scope: goto :: Pos -> IO a0"
     ]
    }
   ],
   "source": [
    "writeat :: Pos -> String -> IO ()\n",
    "writeat p xs = do goto p\n",
    "                  putStr xs"
   ]
  },
  {
   "cell_type": "code",
   "execution_count": 9,
   "id": "771d2a71",
   "metadata": {},
   "outputs": [],
   "source": [
    "goto :: Pos -> IO ()\n",
    "goto (x,y) = putStr (\"\\ESC[\" ++ show y ++ \";\" ++ show x ++ \"H\")"
   ]
  },
  {
   "cell_type": "code",
   "execution_count": 10,
   "id": "71647556",
   "metadata": {},
   "outputs": [],
   "source": [
    "width :: Int\n",
    "width = 10"
   ]
  },
  {
   "cell_type": "code",
   "execution_count": 11,
   "id": "54d41071",
   "metadata": {},
   "outputs": [],
   "source": [
    "height :: Int\n",
    "height = 10"
   ]
  },
  {
   "cell_type": "code",
   "execution_count": 12,
   "id": "0cb63900",
   "metadata": {},
   "outputs": [],
   "source": [
    "type Board = [Pos]"
   ]
  },
  {
   "cell_type": "code",
   "execution_count": 13,
   "id": "03107fa4",
   "metadata": {},
   "outputs": [],
   "source": [
    "glider :: Board\n",
    "glider = [(4,2), (2,3), (4,3), (3,4), (4,4)]"
   ]
  },
  {
   "cell_type": "code",
   "execution_count": 14,
   "id": "a2116e34",
   "metadata": {},
   "outputs": [],
   "source": [
    "showcells :: Board -> IO ()\n",
    "showcells b = sequence_ [writeat p \"O\" | p <- b]"
   ]
  },
  {
   "cell_type": "code",
   "execution_count": 15,
   "id": "ef1e897e",
   "metadata": {},
   "outputs": [
    {
     "data": {
      "text/html": [
       "<style>/* Styles used for the Hoogle display in the pager */\n",
       ".hoogle-doc {\n",
       "display: block;\n",
       "padding-bottom: 1.3em;\n",
       "padding-left: 0.4em;\n",
       "}\n",
       ".hoogle-code {\n",
       "display: block;\n",
       "font-family: monospace;\n",
       "white-space: pre;\n",
       "}\n",
       ".hoogle-text {\n",
       "display: block;\n",
       "}\n",
       ".hoogle-name {\n",
       "color: green;\n",
       "font-weight: bold;\n",
       "}\n",
       ".hoogle-head {\n",
       "font-weight: bold;\n",
       "}\n",
       ".hoogle-sub {\n",
       "display: block;\n",
       "margin-left: 0.4em;\n",
       "}\n",
       ".hoogle-package {\n",
       "font-weight: bold;\n",
       "font-style: italic;\n",
       "}\n",
       ".hoogle-module {\n",
       "font-weight: bold;\n",
       "}\n",
       ".hoogle-class {\n",
       "font-weight: bold;\n",
       "}\n",
       ".get-type {\n",
       "color: green;\n",
       "font-weight: bold;\n",
       "font-family: monospace;\n",
       "display: block;\n",
       "white-space: pre-wrap;\n",
       "}\n",
       ".show-type {\n",
       "color: green;\n",
       "font-weight: bold;\n",
       "font-family: monospace;\n",
       "margin-left: 1em;\n",
       "}\n",
       ".mono {\n",
       "font-family: monospace;\n",
       "display: block;\n",
       "}\n",
       ".err-msg {\n",
       "color: red;\n",
       "font-style: italic;\n",
       "font-family: monospace;\n",
       "white-space: pre;\n",
       "display: block;\n",
       "}\n",
       "#unshowable {\n",
       "color: red;\n",
       "font-weight: bold;\n",
       "}\n",
       ".err-msg.in.collapse {\n",
       "padding-top: 0.7em;\n",
       "}\n",
       ".highlight-code {\n",
       "white-space: pre;\n",
       "font-family: monospace;\n",
       "}\n",
       ".suggestion-warning { \n",
       "font-weight: bold;\n",
       "color: rgb(200, 130, 0);\n",
       "}\n",
       ".suggestion-error { \n",
       "font-weight: bold;\n",
       "color: red;\n",
       "}\n",
       ".suggestion-name {\n",
       "font-weight: bold;\n",
       "}\n",
       "</style><div class=\"suggestion-name\" style=\"clear:both;\">Use infix</div><div class=\"suggestion-row\" style=\"float: left;\"><div class=\"suggestion-warning\">Found:</div><div class=\"highlight-code\" id=\"haskell\">elem p b</div></div><div class=\"suggestion-row\" style=\"float: left;\"><div class=\"suggestion-warning\">Why Not:</div><div class=\"highlight-code\" id=\"haskell\">p `elem` b</div></div>"
      ],
      "text/plain": [
       "Line 2: Use infix\n",
       "Found:\n",
       "elem p b\n",
       "Why not:\n",
       "p `elem` b"
      ]
     },
     "metadata": {},
     "output_type": "display_data"
    }
   ],
   "source": [
    "isAlive :: Board -> Pos -> Bool\n",
    "isAlive b p = elem p b"
   ]
  },
  {
   "cell_type": "code",
   "execution_count": 16,
   "id": "abf4257c",
   "metadata": {},
   "outputs": [],
   "source": [
    "isEmpty :: Board -> Pos -> Bool\n",
    "isEmpty b p = not (isAlive b p)"
   ]
  },
  {
   "cell_type": "code",
   "execution_count": 17,
   "id": "dd5a7b30",
   "metadata": {},
   "outputs": [],
   "source": [
    "neighbs :: Pos -> [Pos]\n",
    "neighbs (x,y) = map wrap [(x-1,y-1), (x,y-1),\n",
    "                             (x+1,y-1), (x-1,y),\n",
    "                             (x+1,y), (x-1,y-1),\n",
    "                             (x,y+1), (x+1,y+1)]"
   ]
  },
  {
   "cell_type": "code",
   "execution_count": 18,
   "id": "e24daf4c",
   "metadata": {},
   "outputs": [],
   "source": [
    "wrap :: Pos -> Pos\n",
    "wrap (x,y) = (((x-1) `mod` width) + 1,\n",
    "              ((y-1) `mod` height) + 1)"
   ]
  },
  {
   "cell_type": "code",
   "execution_count": 19,
   "id": "72a63252",
   "metadata": {},
   "outputs": [],
   "source": [
    "liveneighbs :: Board -> Pos -> Int\n",
    "liveneighbs b = length . filter (isAlive b) . neighbs"
   ]
  },
  {
   "cell_type": "code",
   "execution_count": 20,
   "id": "23757a5a",
   "metadata": {},
   "outputs": [
    {
     "data": {
      "text/html": [
       "<style>/* Styles used for the Hoogle display in the pager */\n",
       ".hoogle-doc {\n",
       "display: block;\n",
       "padding-bottom: 1.3em;\n",
       "padding-left: 0.4em;\n",
       "}\n",
       ".hoogle-code {\n",
       "display: block;\n",
       "font-family: monospace;\n",
       "white-space: pre;\n",
       "}\n",
       ".hoogle-text {\n",
       "display: block;\n",
       "}\n",
       ".hoogle-name {\n",
       "color: green;\n",
       "font-weight: bold;\n",
       "}\n",
       ".hoogle-head {\n",
       "font-weight: bold;\n",
       "}\n",
       ".hoogle-sub {\n",
       "display: block;\n",
       "margin-left: 0.4em;\n",
       "}\n",
       ".hoogle-package {\n",
       "font-weight: bold;\n",
       "font-style: italic;\n",
       "}\n",
       ".hoogle-module {\n",
       "font-weight: bold;\n",
       "}\n",
       ".hoogle-class {\n",
       "font-weight: bold;\n",
       "}\n",
       ".get-type {\n",
       "color: green;\n",
       "font-weight: bold;\n",
       "font-family: monospace;\n",
       "display: block;\n",
       "white-space: pre-wrap;\n",
       "}\n",
       ".show-type {\n",
       "color: green;\n",
       "font-weight: bold;\n",
       "font-family: monospace;\n",
       "margin-left: 1em;\n",
       "}\n",
       ".mono {\n",
       "font-family: monospace;\n",
       "display: block;\n",
       "}\n",
       ".err-msg {\n",
       "color: red;\n",
       "font-style: italic;\n",
       "font-family: monospace;\n",
       "white-space: pre;\n",
       "display: block;\n",
       "}\n",
       "#unshowable {\n",
       "color: red;\n",
       "font-weight: bold;\n",
       "}\n",
       ".err-msg.in.collapse {\n",
       "padding-top: 0.7em;\n",
       "}\n",
       ".highlight-code {\n",
       "white-space: pre;\n",
       "font-family: monospace;\n",
       "}\n",
       ".suggestion-warning { \n",
       "font-weight: bold;\n",
       "color: rgb(200, 130, 0);\n",
       "}\n",
       ".suggestion-error { \n",
       "font-weight: bold;\n",
       "color: red;\n",
       "}\n",
       ".suggestion-name {\n",
       "font-weight: bold;\n",
       "}\n",
       "</style><div class=\"suggestion-name\" style=\"clear:both;\">Use infix</div><div class=\"suggestion-row\" style=\"float: left;\"><div class=\"suggestion-warning\">Found:</div><div class=\"highlight-code\" id=\"haskell\">elem (liveneighbs b p) [2, 3]</div></div><div class=\"suggestion-row\" style=\"float: left;\"><div class=\"suggestion-warning\">Why Not:</div><div class=\"highlight-code\" id=\"haskell\">liveneighbs b p `elem` [2, 3]</div></div>"
      ],
      "text/plain": [
       "Line 2: Use infix\n",
       "Found:\n",
       "elem (liveneighbs b p) [2, 3]\n",
       "Why not:\n",
       "liveneighbs b p `elem` [2, 3]"
      ]
     },
     "metadata": {},
     "output_type": "display_data"
    }
   ],
   "source": [
    "survivors :: Board -> [Pos]\n",
    "survivors b = [p | p <- b, elem (liveneighbs b p) [2,3]]"
   ]
  },
  {
   "cell_type": "code",
   "execution_count": 21,
   "id": "3432f18c",
   "metadata": {},
   "outputs": [],
   "source": [
    "births :: Board -> [Pos]\n",
    "births b = [(x,y) | x <- [1..width],\n",
    "                    y <- [1..height],\n",
    "                    isEmpty b (x,y),\n",
    "                    liveneighbs b (x,y) == 3]"
   ]
  },
  {
   "cell_type": "code",
   "execution_count": 22,
   "id": "98e7a394",
   "metadata": {},
   "outputs": [],
   "source": [
    "nextgen :: Board -> Board\n",
    "nextgen b = survivors b ++ births b"
   ]
  },
  {
   "cell_type": "code",
   "execution_count": 23,
   "id": "4f8bcde3",
   "metadata": {},
   "outputs": [],
   "source": [
    "life :: Board -> IO ()\n",
    "life b = do cls\n",
    "            showcells b\n",
    "            wait 500000\n",
    "            life (nextgen b)"
   ]
  },
  {
   "cell_type": "code",
   "execution_count": 24,
   "id": "fe447cf9",
   "metadata": {},
   "outputs": [],
   "source": [
    "wait :: Int -> IO ()\n",
    "wait n = sequence_ [return () | _ <- [1..n]]"
   ]
  },
  {
   "cell_type": "code",
   "execution_count": null,
   "id": "75319b3c",
   "metadata": {},
   "outputs": [
    {
     "data": {
      "text/plain": [
       "\u001b[2J\u001b[2;4HO\u001b[3;2HO\u001b[3;4HO\u001b[4;3HO\u001b[4;4HO\u001b[2J\u001b[3;4HO\u001b[4;4HO\u001b[5;4HO\u001b[3;5HO\u001b[4;5HO\u001b[2J\u001b[3;4HO\u001b[5;4HO\u001b[3;5HO\u001b[4;3HO\u001b[4;6HO\u001b[2J\u001b[5;4HO\u001b[3;5HO\u001b[4;3HO\u001b[4;6HO\u001b[2J\u001b[5;4HO\u001b[4;6HO\u001b[4;4HO\u001b[2J\u001b[2J\u001b[2J\u001b[2J\u001b[2J\u001b[2J\u001b[2J\u001b[2J\u001b[2J\u001b[2J\u001b[2J\u001b[2J\u001b[2J\u001b[2J\u001b[2J\u001b[2J\u001b[2J\u001b[2J\u001b[2J\u001b[2J\u001b[2J\u001b[2J\u001b[2J\u001b[2J\u001b[2J\u001b[2J\u001b[2J\u001b[2J\u001b[2J\u001b[2J\u001b[2J\u001b[2J\u001b[2J\u001b[2J\u001b[2J\u001b[2J\u001b[2J\u001b[2J\u001b[2J\u001b[2J\u001b[2J\u001b[2J\u001b[2J\u001b[2J\u001b[2J\u001b[2J\u001b[2J\u001b[2J\u001b[2J\u001b[2J\u001b[2J\u001b[2J\u001b[2J\u001b[2J\u001b[2J\u001b[2J\u001b[2J\u001b[2J\u001b[2J\u001b[2J\u001b[2J\u001b[2J\u001b[2J\u001b[2J\u001b[2J\u001b[2J\u001b[2J\u001b[2J\u001b[2J\u001b[2J\u001b[2J\u001b[2J\u001b[2J\u001b[2J\u001b[2J\u001b[2J\u001b[2JPress Ctrl-C again to quit kernel."
      ]
     },
     "metadata": {},
     "output_type": "display_data"
    }
   ],
   "source": [
    "life glider"
   ]
  },
  {
   "cell_type": "code",
   "execution_count": null,
   "id": "65e0e3fd",
   "metadata": {},
   "outputs": [],
   "source": []
  }
 ],
 "metadata": {
  "kernelspec": {
   "display_name": "Haskell",
   "language": "haskell",
   "name": "haskell"
  },
  "language_info": {
   "codemirror_mode": "ihaskell",
   "file_extension": ".hs",
   "mimetype": "text/x-haskell",
   "name": "haskell",
   "pygments_lexer": "Haskell",
   "version": "9.2.7"
  }
 },
 "nbformat": 4,
 "nbformat_minor": 5
}
